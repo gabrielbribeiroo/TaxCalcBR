{
 "cells": [
  {
   "cell_type": "code",
   "execution_count": null,
   "metadata": {
    "vscode": {
     "languageId": "plaintext"
    }
   },
   "outputs": [],
   "source": [
    "'''\n",
    "Código para verificar se compensa realizar um parcelamento ou pagar à vista com\n",
    "base no valor da compra.\n",
    "'''\n",
    "# Entrada da taxa de juros anual (aceitando ponto ou vírgula)\n",
    "taxa_anual = input('Digite o valor da taxa anual de rendimento (%): ').replace(',', '.')\n",
    "taxa_anual = float(taxa_anual) / 100  # Converte para decimal\n",
    "\n",
    "# Calcula a taxa mensal com juros compostos\n",
    "taxa_mensal = (1 + taxa_anual)**(1/12) - 1\n",
    "\n",
    "# Entrada do valor inicial da compra (aceitando ponto ou vírgula)\n",
    "valor_inicial = input('Digite o valor total da compra: R$').replace(',', '.')\n",
    "valor_inicial = float(valor_inicial)  # Converte para decimal\n",
    "\n",
    "# Verifica se há desconto à vista\n",
    "r1 = input('Há desconto em pagar à vista? [S/N]: ').strip().upper()\n",
    "while (r1 != 'S') and (r1 != 'N'):\n",
    "    print('Resposta inválida! Tente novamente.')\n",
    "    r1 = input('Há desconto em pagar à vista? [S/N]: ').strip().upper()\n",
    "if r1 == 'S':\n",
    "    desconto = float(input('Qual a porcentagem de desconto em pagar à vista? '))\n",
    "    vista = valor_inicial - (valor_inicial * (desconto / 100))\n",
    "else:\n",
    "    vista = valor_inicial\n",
    "\n",
    "# Verifica se há acréscimo em pagar parcelado \n",
    "# Compras no cartão de crédito são consideradas como 1 parcela\n",
    "r2 = input('Há juros em pagar parcelado? [S/N]: ').strip().upper()\n",
    "while (r2 != 'S') and (r2 != 'N'):\n",
    "    print('Resposta inválida! Tente novamente.')\n",
    "    r2 = input('Há juros em pagar parcelado? [S/N]: ').strip().upper()\n",
    "if r2 == 'S':\n",
    "    juros = float(input('Qual a porcentagem de juros em pagar parcelado? '))\n",
    "    valor_inicial += valor_inicial * (juros / 100)\n",
    "\n",
    "# Entrada do número de parcelas\n",
    "qnt_parcelas = int(input('Digite o número de parcelas: '))\n",
    "valor_parcela = valor_inicial / qnt_parcelas\n",
    "\n",
    "# Simula os rendimentos com parcelas mensais\n",
    "ganho = 0\n",
    "total = valor_inicial\n",
    "print(f'\\n{\"Parcelas\":^12}{\"Dívida\":^10}{\"Rendimento\":^15}')  # Cabeçalho com centralização\n",
    "print('-'*35)\n",
    "for _ in range(qnt_parcelas):\n",
    "    rendimento = total * taxa_mensal\n",
    "    print(f'{_+1:^12}{total:>10.2f}{rendimento:>10.2f}')\n",
    "    ganho += rendimento\n",
    "    total -= valor_parcela\n",
    "\n",
    "# Calcula o custo efetivo do parcelamento\n",
    "valor_final_parcelado = valor_inicial - ganho\n",
    "\n",
    "# Exibe os resultados\n",
    "print(f'\\nValor pagando à vista: R${vista:.2f}')\n",
    "print(f'Rendimentos acumulados com o parcelamento: R${ganho:.2f}')\n",
    "print(f'Valor pago parcelando (descontados os rendimentos): R${valor_final_parcelado:.2f}')\n",
    "\n",
    "# Decide qual é mais vantajoso\n",
    "if vista < valor_final_parcelado:\n",
    "    print('\\nCompensa pagar à vista.')\n",
    "else:\n",
    "    print('\\nCompensa parcelar.')"
   ]
  }
 ],
 "metadata": {
  "language_info": {
   "name": "python"
  }
 },
 "nbformat": 4,
 "nbformat_minor": 2
}
